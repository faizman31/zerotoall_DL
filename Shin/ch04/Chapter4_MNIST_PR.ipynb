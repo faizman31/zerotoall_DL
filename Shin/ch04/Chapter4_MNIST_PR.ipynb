{
 "cells": [
  {
   "attachments": {},
   "cell_type": "markdown",
   "metadata": {},
   "source": [
    "# 신경망 학습 실습 - MNIST"
   ]
  },
  {
   "attachments": {},
   "cell_type": "markdown",
   "metadata": {},
   "source": [
    "이번 실습에서는 다음과 같은 과정을 직접 구현해보면서 앞서 배운 내용을 복습해보도록 하겠습니다.  \n",
    "  \n",
    "> **신경망 학습이란?**  \n",
    "> 신경망에는 가중치와 편향이 있고 이 가중치와 편향을 훈련 데이터에 적응하도록 조정하는 과정을 '학습'이라고 합니다."
   ]
  },
  {
   "attachments": {},
   "cell_type": "markdown",
   "metadata": {},
   "source": [
    "신경망 학습은 다음과 같은 절차에 따라 진행됩니다.\n",
    "1. 미니배치 - 훈련 데이터 중 일부를 무작위로 가져옵니다. 이때 무작위로 가져온 데이터를 **미니배치**라 합니다.  \n",
    "   \n",
    "2. 기울기 산출 - 미니배치의 손실 함수의 값을 줄이기 위해 각 가중치 매개변수의 기울기를 구합니다.  \n",
    "   \n",
    "3. 매개변수 갱신 - 가중치 매개변수 기울기 방향으로 지정한 학습률 만큼 갱신합니다.  \n",
    "   \n",
    "4. 1~3단계 반복"
   ]
  },
  {
   "attachments": {},
   "cell_type": "markdown",
   "metadata": {},
   "source": [
    "## Library import"
   ]
  },
  {
   "cell_type": "code",
   "execution_count": 2,
   "metadata": {},
   "outputs": [],
   "source": [
    "import sys,os\n",
    "sys.path.append(os.pardir)\n",
    "import numpy as np\n",
    "from common.functions import *\n",
    "from common.gradient import numerical_gradient"
   ]
  },
  {
   "attachments": {},
   "cell_type": "markdown",
   "metadata": {},
   "source": [
    "## 2층 신경망 구현\n",
    "2층 신경망을 구현해보도록 하겠습니다.\n",
    "- 입력층의 크기(input_size) : 784\n",
    "- 은닉층의 크기(hidden_size) : 50\n",
    "- 출력층의 크기(output_size) : 10\n",
    "- 가중치 초기화 분산(weight_init_std) : 0.01"
   ]
  },
  {
   "cell_type": "code",
   "execution_count": 6,
   "metadata": {},
   "outputs": [],
   "source": [
    "class TwoLayerNet:\n",
    "    def __init__(self,input_size,hidden_size,output_size,weight_init_std=0.01):\n",
    "        self.params={}\n",
    "        self.params['W1'] = weight_init_std * np.random.randn(input_size,hidden_size)\n",
    "        self.params['b1'] = np.zeros(hidden_size)\n",
    "        self.params['W2'] = weight_init_std * np.random.randn(hidden_size,output_size)\n",
    "        self.params['b2'] = np.zeros(output_size)\n",
    "\n",
    "    def predict(self,x):\n",
    "        W1,W2 = self.params['W1'],self.params['W2']\n",
    "        b1,b2 = self.params['b1'],self.params['b2']\n",
    "\n",
    "        a1 = np.dot(x,W1) + b1\n",
    "        z1 = sigmoid(a1)\n",
    "        a2 = np.dot(z1,W2) + b2\n",
    "        y = softmax(a2)\n",
    "\n",
    "        return y\n",
    "    \n",
    "    def loss(self,x,t):\n",
    "        y = self.predict(x)\n",
    "\n",
    "        return cross_entropy_error(y,t)\n",
    "    \n",
    "    def accuracy(self,x,t):\n",
    "        y = self.predict(x)\n",
    "        y = np.argmax(y,axis=1)\n",
    "        t = np.argmax(t,axis=1)\n",
    "\n",
    "        accuracy = np.sum(y==t) / float(x.shape[0])\n",
    "\n",
    "        return accuracy\n",
    "    \n",
    "    def numerical_gradient(self,x,t):\n",
    "        loss_W = lambda W : self.loss(x,t)\n",
    "\n",
    "        grads = {}\n",
    "        grads['W1'] = numerical_gradient(loss_W,self.params['W1'])\n",
    "        grads['b1'] = numerical_gradient(loss_W,self.params['b1'])\n",
    "        grads['W2'] = numerical_gradient(loss_W,self.params['W2'])\n",
    "        grads['b2'] = numerical_gradient(loss_W,self.params['b2'])\n",
    "\n",
    "        return grads"
   ]
  },
  {
   "attachments": {},
   "cell_type": "markdown",
   "metadata": {},
   "source": [
    "가중치의 형상을 확인해보면서 2층 신경망이 올바르게 구현 됬는지 확인해보겠습니다."
   ]
  },
  {
   "cell_type": "code",
   "execution_count": 8,
   "metadata": {},
   "outputs": [
    {
     "name": "stdout",
     "output_type": "stream",
     "text": [
      "|W1|= (784, 50)\n",
      "|b1|= (50,)\n",
      "|W2|= (50, 10)\n",
      "|b2|= (10,)\n"
     ]
    }
   ],
   "source": [
    "net = TwoLayerNet(input_size=784,hidden_size=50,output_size=10)\n",
    "print(\"|W1|=\",net.params['W1'].shape)\n",
    "print(\"|b1|=\",net.params['b1'].shape)\n",
    "print(\"|W2|=\",net.params['W2'].shape)\n",
    "print(\"|b2|=\",net.params['b2'].shape)"
   ]
  },
  {
   "attachments": {},
   "cell_type": "markdown",
   "metadata": {},
   "source": [
    "입력한대로 올바르게 구현된 것을 확인 할 수 있습니다."
   ]
  },
  {
   "attachments": {},
   "cell_type": "markdown",
   "metadata": {},
   "source": [
    "## 신경망 학습 구현\n",
    "신경망 구조는 구현했으니(`TwoLayerNet`) 이제 신경망 절차에 따라 신경망 학습을 구현해보도록 하겠습니다."
   ]
  },
  {
   "cell_type": "code",
   "execution_count": null,
   "metadata": {},
   "outputs": [],
   "source": [
    "from dataset.mnist import load_mnist\n",
    "from two_layer_net import TwoLayerNet\n",
    "\n",
    "# 데이터 불러오기\n",
    "(x_train,t_train),(x_test,t_test) = load_mnist(normalize=True,one_hot_label=True)\n",
    "\n",
    "# train 손실값을 담을 리스트 생성\n",
    "train_loss_list=[]\n",
    "\n",
    "# 하이퍼파라미터 값 설정\n",
    "iters_num = 1000\n",
    "train_size = x_train.shape[0]\n",
    "batch_size = 100\n",
    "learning_rate = 0.1\n",
    "\n",
    "# 학습\n",
    "for i in range(iters_num):\n",
    "    # 1.미니배치 설정\n",
    "    batch_mask = np.random.choice(train_size,batch_size)\n",
    "    x_batch = x_train[batch_mask]\n",
    "    t_batch = t_train[batch_mask]\n",
    "\n",
    "    # 2.기울기 산출\n",
    "    grads = net.numerical_gradient(x_batch,t_batch)\n",
    "\n",
    "    # 3.매개변수 갱신\n",
    "    for key in ('W1','b1','W2','b2'):\n",
    "        net.params[key] -= learning_rate * grads[key]\n",
    "\n",
    "    # train_loss_list에 loss 추가 \n",
    "    loss = net.loss(x_batch,t_batch)\n",
    "    train_loss_list.append(loss)\n"
   ]
  },
  {
   "attachments": {},
   "cell_type": "markdown",
   "metadata": {},
   "source": [
    "신경망 학습 절차에 따라 신경망 학습을 구현했습니다. 하지만 아직 우리는 정확도를 측정하지 않았습니다. 모든 훈련 데이터를 돌았을 때 정확도를 산출하는 코드도 한번 구현해보도록 하겠습니다."
   ]
  },
  {
   "cell_type": "code",
   "execution_count": null,
   "metadata": {},
   "outputs": [],
   "source": [
    "from dataset.mnist import load_mnist\n",
    "from two_layer_net import TwoLayerNet\n",
    "\n",
    "# 데이터 불러오기\n",
    "(x_train,t_train),(x_test,t_test) = load_mnist(normalize=True,one_hot_label=True)\n",
    "\n",
    "# train 손실값을 담을 리스트 생성\n",
    "train_loss_list=[]\n",
    "train_acc_list=[]\n",
    "test_acc_list=[]\n",
    "\n",
    "# 하이퍼파라미터 값 설정\n",
    "iters_num = 1000\n",
    "train_size = x_train.shape[0]\n",
    "batch_size = 100\n",
    "learning_rate = 0.1\n",
    "iter_per_epoch = max(iters_num / batch_size,1)\n",
    "\n",
    "# 학습\n",
    "for i in range(iters_num):\n",
    "    # 1.미니배치 설정\n",
    "    batch_mask = np.random.choice(train_size,batch_size)\n",
    "    x_batch = x_train[batch_mask]\n",
    "    t_batch = t_train[batch_mask]\n",
    "\n",
    "    # 2.기울기 산출\n",
    "    grads = net.numerical_gradient(x_batch,t_batch)\n",
    "\n",
    "    # 3.매개변수 갱신\n",
    "    for key in ('W1','b1','W2','b2'):\n",
    "        net.params[key] -= learning_rate * grads[key]\n",
    "\n",
    "    # train_loss_list에 loss 추가 \n",
    "    loss = net.loss(x_batch,t_batch)\n",
    "    train_loss_list.append(loss)\n",
    "\n",
    "    # 정확도 산출\n",
    "    if i % iter_per_epoch == 0:\n",
    "        train_acc = net.accuracy(x_train,t_train)\n",
    "        test_acc = net.accuracy(x_test,t_test)\n",
    "        train_acc_list.append(train_acc)\n",
    "        test_acc_list.append(test_acc)\n",
    "        print('Train Accuracy = {:.4f}'.format(train_acc))\n",
    "        print('Test Accuracy = {:.4f}'.format(test_acc))\n",
    "\n"
   ]
  },
  {
   "cell_type": "code",
   "execution_count": null,
   "metadata": {},
   "outputs": [],
   "source": []
  }
 ],
 "metadata": {
  "kernelspec": {
   "display_name": "base",
   "language": "python",
   "name": "base"
  },
  "language_info": {
   "codemirror_mode": {
    "name": "ipython",
    "version": 3
   },
   "file_extension": ".py",
   "mimetype": "text/x-python",
   "name": "python",
   "nbconvert_exporter": "python",
   "pygments_lexer": "ipython3",
   "version": "3.9.13"
  },
  "orig_nbformat": 4
 },
 "nbformat": 4,
 "nbformat_minor": 2
}
