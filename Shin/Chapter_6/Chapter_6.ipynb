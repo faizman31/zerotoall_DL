{
 "cells": [
  {
   "cell_type": "code",
   "execution_count": 2,
   "metadata": {},
   "outputs": [],
   "source": [
    "import numpy as np"
   ]
  },
  {
   "attachments": {},
   "cell_type": "markdown",
   "metadata": {},
   "source": [
    "### 확률적 경사 하강법(SGD)"
   ]
  },
  {
   "cell_type": "code",
   "execution_count": 1,
   "metadata": {},
   "outputs": [],
   "source": [
    "class SGD:\n",
    "    def __init__(self,lr):\n",
    "        self.lr = lr\n",
    "\n",
    "    def update(self,params,grads):\n",
    "        for key in params.keys():\n",
    "            params[key] -= self.lr * grads[key] # params['W1'],grads['W1'] 과 같이 딕셔너리 형태로 가중치 매개변수와 기울기를 저장하고 있음."
   ]
  },
  {
   "attachments": {},
   "cell_type": "markdown",
   "metadata": {},
   "source": [
    "### 모멘텀(Momentum)"
   ]
  },
  {
   "cell_type": "code",
   "execution_count": 7,
   "metadata": {},
   "outputs": [],
   "source": [
    "class Momentum:\n",
    "    def __init__(self,lr=0.01,momentum=.9):\n",
    "        self.lr=lr\n",
    "        self.momentum=momentum\n",
    "        self.v = None\n",
    "\n",
    "    def update(self,params,grads):\n",
    "        if self.v is None:\n",
    "            self.v = {}\n",
    "            for key,val in params.items():\n",
    "                v[key] = np.zeros_like(val)\n",
    "\n",
    "        for key in params.keys():\n",
    "            self.v[key] = self.momentum*self.v[key] - self.lr * grads[key]\n",
    "            params[key] += self.v[key]"
   ]
  },
  {
   "attachments": {},
   "cell_type": "markdown",
   "metadata": {},
   "source": [
    "### AdaGrad"
   ]
  },
  {
   "cell_type": "code",
   "execution_count": 8,
   "metadata": {},
   "outputs": [],
   "source": [
    "class AdaGrad:\n",
    "    def __init__(self,lr=0.01):\n",
    "        self.lr = lr\n",
    "        self.h = None\n",
    "\n",
    "    def update(self,params,grads):\n",
    "        if self.h is None:\n",
    "            self.h={}\n",
    "            for key,val in params.items():\n",
    "                h[key] = np.zeros_like(val)\n",
    "\n",
    "        for key in params.keys():\n",
    "            h[key] += grads[key]*grads[key]\n",
    "            params[key] -= self.lr*(1/(np.sqrt(h[key])+1e-7))*grads[key]"
   ]
  },
  {
   "attachments": {},
   "cell_type": "markdown",
   "metadata": {},
   "source": [
    "### Adam"
   ]
  },
  {
   "cell_type": "code",
   "execution_count": 9,
   "metadata": {},
   "outputs": [],
   "source": [
    "class Adam:\n",
    "    def __init__(self,lr=0.001,beta1=0.9,beta2=0.999):\n",
    "        self.lr=lr\n",
    "        self.beta1=beta1\n",
    "        self.beta2=beta2\n",
    "        self.iter=0\n",
    "        self.m = None\n",
    "        self.v = None\n",
    "\n",
    "    def update(self,params,grads):\n",
    "        if self.m is None:\n",
    "            self.m,self.v={},{}\n",
    "            for key,val in params.items():\n",
    "                self.m[key] = np.zeros_like(val)\n",
    "                self.v[key] = np.zeros_like(val)\n",
    "\n",
    "        self.iter+=1\n",
    "        lr_t = self.lr * np.sqrt(1-self.beta2**self.iter) / (1.0-self.beta1**self.iter)\n",
    "\n",
    "        for key in params.keys():\n",
    "            self.m[key] += (1-self.beta1) * (grads[key] - self.m[key])\n",
    "            self.v[key] += (1-self.beta2) * (grads[key]-self.v[key])\n",
    "            params[key] -= lr_t * self.m[key] / (np.sqrt(self.v[key])+1e-7)"
   ]
  },
  {
   "cell_type": "code",
   "execution_count": null,
   "metadata": {},
   "outputs": [],
   "source": []
  }
 ],
 "metadata": {
  "kernelspec": {
   "display_name": "base",
   "language": "python",
   "name": "base"
  },
  "orig_nbformat": 4
 },
 "nbformat": 4,
 "nbformat_minor": 2
}
