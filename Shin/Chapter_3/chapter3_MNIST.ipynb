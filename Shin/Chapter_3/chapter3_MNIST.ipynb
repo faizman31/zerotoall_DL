{
 "cells": [
  {
   "attachments": {},
   "cell_type": "markdown",
   "metadata": {},
   "source": [
    "# 손글씨 숫자 인식"
   ]
  },
  {
   "attachments": {},
   "cell_type": "markdown",
   "metadata": {},
   "source": [
    "## MNIST 손글씨 Dataset\n",
    "- 기계학습 분야에서 사용되는 유명한 데이터셋\n",
    "- 0~9 숫자 이미지로 구성\n",
    "- 훈련 이미지 : 60,000장 , 테스트 이미지 : 10,000장"
   ]
  },
  {
   "cell_type": "code",
   "execution_count": null,
   "metadata": {},
   "outputs": [],
   "source": []
  }
 ],
 "metadata": {
  "language_info": {
   "name": "python"
  },
  "orig_nbformat": 4
 },
 "nbformat": 4,
 "nbformat_minor": 2
}
