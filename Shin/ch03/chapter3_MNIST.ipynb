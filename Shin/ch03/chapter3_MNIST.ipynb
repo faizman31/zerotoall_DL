{
 "cells": [
  {
   "attachments": {},
   "cell_type": "markdown",
   "metadata": {},
   "source": [
    "# 손글씨 숫자 인식"
   ]
  },
  {
   "cell_type": "code",
   "execution_count": 5,
   "metadata": {},
   "outputs": [],
   "source": [
    "# Library Import\n",
    "import numpy as np"
   ]
  },
  {
   "attachments": {},
   "cell_type": "markdown",
   "metadata": {},
   "source": [
    "## MNIST 손글씨 Dataset\n",
    "- 기계학습 분야에서 사용되는 유명한 데이터셋\n",
    "- 0~9 숫자 이미지로 구성\n",
    "- 훈련 이미지 : 60,000장 , 테스트 이미지 : 10,000장"
   ]
  },
  {
   "cell_type": "code",
   "execution_count": 2,
   "metadata": {},
   "outputs": [
    {
     "name": "stdout",
     "output_type": "stream",
     "text": [
      "x_train : (60000, 784)\n",
      "x_test : (10000, 784)\n",
      "y_train : (60000, 10)\n",
      "y_test : (10000, 10)\n"
     ]
    }
   ],
   "source": [
    "import sys,os\n",
    "sys.path.append(os.pardir)\n",
    "from dataset.mnist import load_mnist\n",
    "\n",
    "(x_train,y_train) , (x_test,y_test) = load_mnist(normalize=True,flatten=True,one_hot_label=True)\n",
    "\n",
    "print(\"x_train :\",x_train.shape) # 학습 이미지 \n",
    "print(\"x_test :\",x_test.shape) # 테스트 이미지\n",
    "print(\"y_train :\",y_train.shape) # 학습 이미지 abel\n",
    "print(\"y_test :\",y_test.shape) # 테스트 이미지 label"
   ]
  },
  {
   "attachments": {},
   "cell_type": "markdown",
   "metadata": {},
   "source": [
    "## 신경망의 추론 처리\n",
    "> **본 Part에서는 학습 구현은 이루어지지 않고 추론을 수행하는 구현만 이루어집니다.**\n",
    "- `get_data()` : MNIST 데이터셋을 반환합니다.\n",
    "  - 본 Part는 추론 과정만 구현함으로 학습데이터는 반환하지 않고 테스트데이터만 반환합니다.\n",
    "- `init_network()` : 신경망의 Weight와 bias 값을 정의합니다.\n",
    "  - 본 Part는 미리 구현된 pickle 파일을 불러옵니다.\n",
    "- `predict()` : 신경망의 추론과정 즉 순전파(forward propagation)를 수행합니다."
   ]
  },
  {
   "attachments": {},
   "cell_type": "markdown",
   "metadata": {},
   "source": [
    "- 신경망의 구성\n",
    "  - 입력층 노드 : 784\n",
    "  - 첫번째 은닉층 노드 : 50\n",
    "  - 두번째 은닉층 노드 : 100\n",
    "  - 출력층 노드 : 10 (0~9까지 10개의 클래스)"
   ]
  },
  {
   "cell_type": "code",
   "execution_count": 15,
   "metadata": {},
   "outputs": [],
   "source": [
    "\n",
    "def get_data():\n",
    "    (x_train,y_train),(x_test,y_test) = load_mnist(normalize=True,flatten=True,one_hot_label=False)\n",
    "    return x_test,y_test # 테스트데이터만 return \n",
    "\n",
    "import pickle\n",
    "def init_network():\n",
    "    with open(\"sample_weight.pkl\",'rb') as f:\n",
    "        network = pickle.load(f)\n",
    "    return network\n",
    "\n",
    "\n",
    "def predict(network,x):\n",
    "    W1,W2,W3 = network['W1'] , network['W2'] , network['W3']\n",
    "    b1,b2,b3 = network['b1'] , network['b2'] , network['b3']\n",
    "\n",
    "    a1 = np.dot(x,W1) + b1\n",
    "    z1 = sigmoid(a1)\n",
    "    a2 = np.dot(z1,W2) + b2\n",
    "    z2 = sigmoid(a2)\n",
    "    a3 = np.dot(z2,W3) + b3\n",
    "    y = softmax(a3)\n",
    "\n",
    "    return y \n",
    "    "
   ]
  },
  {
   "attachments": {},
   "cell_type": "markdown",
   "metadata": {},
   "source": [
    "`sample_weight.pkl` 파일에서 불러온 weight(편의상 bias와 합쳐서 부르겠습니다.)가 어떤 shape을 가지고 있고 우리가 구현하려는  \n",
    "신경망이 맞는지 확인해보도록 하겠습니다.  \n",
    "우리가 구현하려는 신경망은 첫번째 은닉층 계층의 노드가 50 두번째 은닉층 계층의 노드가 100 으로 구성되어 있고 최종 출력층 노드가 10개 입니다."
   ]
  },
  {
   "cell_type": "code",
   "execution_count": 19,
   "metadata": {},
   "outputs": [
    {
     "name": "stdout",
     "output_type": "stream",
     "text": [
      "첫번째 은닉층 계층 weight : (784, 50)\n",
      "첫번째 은닉층 계층 bias : (50,)\n",
      "두번째 은닉층 계층 weight : (50, 100)\n",
      "두번째 은닉층 계층 bias : (100,)\n",
      "출력층 weight : (100, 10)\n",
      "출력층 bias : (10,)\n"
     ]
    }
   ],
   "source": [
    "with open('sample_weight.pkl','rb') as f:\n",
    "    network = pickle.load(f)\n",
    "\n",
    "print('첫번째 은닉층 계층 weight :',network['W1'].shape)\n",
    "print('첫번째 은닉층 계층 bias :',network['b1'].shape)\n",
    "print('두번째 은닉층 계층 weight :',network['W2'].shape)\n",
    "print('두번째 은닉층 계층 bias :',network['b2'].shape)\n",
    "print('출력층 weight :',network['W3'].shape)\n",
    "print('출력층 bias :',network['b3'].shape)"
   ]
  },
  {
   "attachments": {},
   "cell_type": "markdown",
   "metadata": {},
   "source": [
    "구현을 하다보니 활성화 함수와 출력층의 활성화 함수를 구현하지 않았습니다. 에러가 발생할 수 있으니 구현하도록 하겠습니다."
   ]
  },
  {
   "cell_type": "code",
   "execution_count": 16,
   "metadata": {},
   "outputs": [],
   "source": [
    "def sigmoid(x): # 은닉층 활성화 함수 Sigmoid\n",
    "    return 1 / (1+np.exp(-x))\n",
    "\n",
    "def softmax(x): # 출력층 활성화 함수 Softmax\n",
    "    return np.exp(x) / np.sum(np.exp(x))\n"
   ]
  },
  {
   "attachments": {},
   "cell_type": "markdown",
   "metadata": {},
   "source": [
    "활성화 함수까지 모두 구현해 주었으니 본격적으로 신경망을 구현하기 전 준비는 끝났습니다. 그렇다면 지금부터 신경망을 구현하여 추론과정을 진행하고.  \n",
    "추론과정에서 나온 결과를 토대로 실제 label 값과 비교하여 Accuracy까지 구해보도록 하겠습니다."
   ]
  },
  {
   "cell_type": "code",
   "execution_count": 17,
   "metadata": {},
   "outputs": [
    {
     "name": "stdout",
     "output_type": "stream",
     "text": [
      "Accuracy : 0.9352\n"
     ]
    }
   ],
   "source": [
    "x,y = get_data() # 추론과정만 구현했으므로 테스트데이터만 받아옵니다\n",
    "network = init_network() # 미리 구한 weight와 bias 피클 파일을 불러옵니다.\n",
    "\n",
    "correct_cnt = 0 # 모델이 추론한 값과 실제 값이 동일한 것에 개수를 저장하는 변수\n",
    "\n",
    "for i in range(len(x)):\n",
    "    y_hat = predict(network,x[i])\n",
    "    if np.argmax(y_hat) == y[i]:\n",
    "        correct_cnt +=1\n",
    "    \n",
    "print('Accuracy :',float(correct_cnt / len(x)))\n"
   ]
  },
  {
   "attachments": {},
   "cell_type": "markdown",
   "metadata": {},
   "source": [
    "Accuracy 가 약 93% 정도가 나오는걸 확인할 수 있습니다. 이렇게 추론과정까지 구현해보았습니다. 그렇다면 이젠 배치학습을 \n",
    "구현해보도록 하겠습니다. 배치란 데이터의 묶음 이라고 생각하면 됩니다. 배치 크기를 100으로 해보겠습니다.(1 배치당 100개 데이터)  \n",
    "우리의 데이터는 numpy 배열로 구현되어있기 때문에 행렬곱을 통한 연산이 가능합니다!"
   ]
  },
  {
   "cell_type": "code",
   "execution_count": 21,
   "metadata": {},
   "outputs": [
    {
     "name": "stdout",
     "output_type": "stream",
     "text": [
      "Accuracy : 0.9352\n"
     ]
    }
   ],
   "source": [
    "x,y = get_data()\n",
    "network = init_network()\n",
    "batch_size = 100\n",
    "\n",
    "current_cnt = 0\n",
    "\n",
    "for i in range(0,len(x),batch_size):\n",
    "    x_batch = x[i:i+batch_size]\n",
    "    y_batch = predict(network,x[i:i+batch_size])\n",
    "    p = np.argmax(y_batch,axis=1)\n",
    "    current_cnt += np.sum(p == y[i:i+batch_size])\n",
    "\n",
    "print('Accuracy :',float(current_cnt / len(x)))"
   ]
  },
  {
   "cell_type": "code",
   "execution_count": null,
   "metadata": {},
   "outputs": [],
   "source": []
  }
 ],
 "metadata": {
  "kernelspec": {
   "display_name": "base",
   "language": "python",
   "name": "base"
  },
  "language_info": {
   "codemirror_mode": {
    "name": "ipython",
    "version": 3
   },
   "file_extension": ".py",
   "mimetype": "text/x-python",
   "name": "python",
   "nbconvert_exporter": "python",
   "pygments_lexer": "ipython3",
   "version": "3.9.13"
  },
  "orig_nbformat": 4
 },
 "nbformat": 4,
 "nbformat_minor": 2
}
