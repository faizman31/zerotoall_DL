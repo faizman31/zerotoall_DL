{
 "cells": [
  {
   "attachments": {},
   "cell_type": "markdown",
   "metadata": {},
   "source": [
    "# Chapter05 - 오차역전파법"
   ]
  },
  {
   "attachments": {},
   "cell_type": "markdown",
   "metadata": {},
   "source": [
    "> 본 파트는 미분에 대한 선수지식이 있다는 가정하에 진행합니다. 이해가 되지 않는분들은 전 파트를 보고 와주세요"
   ]
  },
  {
   "attachments": {},
   "cell_type": "markdown",
   "metadata": {},
   "source": [
    "우리는 신경망의 가중치 매개변수의 기울기를 구하기 위해 수치 미분 방식을 사용하였습니다.  \n",
    "수치 미분 방식은 단순하고 구현하기 쉽지만 계산 시간이 오래 걸린다는 단점이 있습니다.  \n",
    "이를 해결하기 위해 오차역전파법(backpropagation)을 사용하여 가중치 매개변수의 기울기를 효율적으로 계산합니다.  \n",
    "그래서 이번 챕터에서는 매개변수의 기울기를 효율적으로 계산하는 방법인 오차역전파법에 대해 배웁니다.  \n",
    "오차역전파법을 제대로 이해하기 위한 방법으로는 1)수식을 통한 이해 , 2)계산그래프를 통한 이해 로 두 가지 방법이 있습니다.  \n",
    "이번 파트에서는 계산그래프를 통해 오차역전파법을 이해해보겠습니다."
   ]
  },
  {
   "attachments": {},
   "cell_type": "markdown",
   "metadata": {},
   "source": [
    "## 5.1 계산 그래프\n",
    "**계산 그래프(Computational graph)는 계산과정을 그래프로 나타낸 것입니다.**  \n",
    "계산 그래프는 **노드(node)** 와 **에지(edge)** 로 이루어져 있습니다."
   ]
  },
  {
   "attachments": {},
   "cell_type": "markdown",
   "metadata": {},
   "source": [
    "### 5.1.1 계산 그래프로 풀다\n",
    "> **예제**  \n",
    "> 현빈 군은 슈퍼에서 1개에 100원인 사과를 2개 샀습니다. 이때 지불 금액을 구하세요.  \n",
    "> 단, 소비세가 10% 부과됩니다.  \n",
    "  \n",
    "계산 그래프는 다음 그림과 같이 노드(node)안에 연산 내용을 적고 계산 결과를 화살표 위에 적어 각 노드의 결과를 왼쪽에서 오른쪽으로 전해지게 합니다."
   ]
  },
  {
   "attachments": {},
   "cell_type": "markdown",
   "metadata": {},
   "source": [
    "자 그러면 다음 예제를 통해서 한번 직접 계산 그래프를 그려봅시다.\n",
    "> **예제2**  \n",
    "> 현빈 군은 슈퍼에서 사과를 2개,귤을 3개 샀습니다. 사과는 1개에 100원, 귤은 1개 150원입니다.  \n",
    "> 소비세가 10%일 때 지불 금액을 구하세요"
   ]
  },
  {
   "attachments": {},
   "cell_type": "markdown",
   "metadata": {},
   "source": [
    "그림에서 알 수 있듯이 계산 그래프의 계산은 왼쪽에서 오른쪽으로 진행됩니다. 이를 **순전파(forward propagation)** 라고 합니다.  \n",
    "그러면 **역전파(backward propagation)** 는 무엇일까요? 네 바로 순전파에 반대방향입니다. 역전파는 오른쪽에서 왼쪽으로 진행이 됩니다."
   ]
  },
  {
   "attachments": {},
   "cell_type": "markdown",
   "metadata": {},
   "source": [
    "### 5.1.2 국소적 계산\n",
    "계산 그래프의 특징은 **\"국소적 계산\"** 을 전파하여 최종 결과를 만드는 것입니다.\n",
    "국소적 계산이란 무엇일까요? 국소적 계산은 자신과 관계된 정보만으로 계산 결과를 출력합니다. 앞선 예제를 보면 국소적 계산을 진행한 노드들의 결과가 모여  \n",
    "최종 결과를 출력한것으로 이해하면 됩니다. 우리는 이러한 국소적인 계산은 단순하지만 그 결과를 전달함으로써 전체를 구성하는 복잡한 계산을 해낼 수 있습니다.  \n"
   ]
  },
  {
   "attachments": {},
   "cell_type": "markdown",
   "metadata": {},
   "source": [
    "### 5.1.3 왜 계산 그래프로 풀까?\n",
    "계산 그래프의 이점으로는 국소적 계산을 통해 복잡한 계산을 해낼 수 있다는 것을 알고 있습니다. 사실 계산 그래프의 이점은 한가지 더 있습니다.  \n",
    "바로 계산 그래프는 중간 계산 결과를 모두 보관할 수 있습니다. 이러한 두 가지의 특징을 통해 계산 그래프에서 역전파를 통해 '미분'을 효율적으로 계산할 수 있습니다."
   ]
  },
  {
   "attachments": {},
   "cell_type": "markdown",
   "metadata": {},
   "source": [
    "위에 그림처럼 계산 그래프는 이전의 결과를 공유하기 때문에 다수의 미분을 효율적으로 계산 할 수 있습니다."
   ]
  },
  {
   "attachments": {},
   "cell_type": "markdown",
   "metadata": {},
   "source": [
    "## 5.2 연쇄법칙(Chain rule)\n",
    "계산 그래프에 역전파에서 오른쪽에서 왼쪽으로 국소적인 미분을 전달합니다. 이 원리는 연쇄법칙(chain rule)을 따른 것입니다.\n",
    "그렇다면 연쇄법칙이 무엇인지 알아보도록 하겠습니다.\n"
   ]
  },
  {
   "attachments": {},
   "cell_type": "markdown",
   "metadata": {},
   "source": [
    "### 5.2.1 계산 그래프의 역전파\n",
    "계산 그래프의 역전파는 다음 그림과 같이 이루어 집니다."
   ]
  },
  {
   "attachments": {},
   "cell_type": "markdown",
   "metadata": {},
   "source": [
    "신호 E에 국소적 미분(${\\partial y\\over \\partial x}$)을 곱한 후 다음 노드로 전달합니다.  \n",
    "역전파이기 때문에 다음 노드는 왼쪽노드가 되겠죠 그러면 다음 노드에서는 신호 E와 국소적 미분(${\\partial y\\over \\partial x}$)을 곱한 값을 신호로 받아 다음 노드의 국소적 미분과 곱해서 다시 왼쪽 노드의 전달하는 형태를 반복할 겁니다. 이 방식을 따르면 목표로 하는 미분 값을 효율적으로 구할 수 있습니다.\n",
    "왜 그런걸까요? 한번 알아보도록 하겠습니다."
   ]
  },
  {
   "attachments": {},
   "cell_type": "markdown",
   "metadata": {},
   "source": [
    "### 5.2.2 연쇄법칙이란?\n",
    "효율적으로 미분값을 구하기 위해 계산 그래프에 역전파에서는 연쇄법칙(chain rule)을 사용합니다.  \n",
    "연쇄법칙을 알기 위해서는 먼저 합성함수에 대해 알아야 합니다. **합성함수** 란 여러 함수로 구성된 함수입니다.  \n",
    "예를 들면 다음 수식과 같습니다.\n",
    "$$\n",
    "f = g^2 \\\\\n",
    "g = 3x+2y \\\\\n",
    "$$"
   ]
  },
  {
   "attachments": {},
   "cell_type": "markdown",
   "metadata": {},
   "source": [
    "연쇄법칙은 합성 함수의 미분에 대한 성질이며 다음과 같이 정의됩니다.\n",
    "> 합성 함수의 미분은 합성 함수를 구성하는 각 함수의 미분의 곱으로 나타낼 수 있다.\n",
    "이를 예를 들어서 설명해보겠습니다."
   ]
  },
  {
   "attachments": {},
   "cell_type": "markdown",
   "metadata": {},
   "source": [
    "$$\n",
    "{\\partial f \\over \\partial x} ={\\partial f \\over \\partial g} * {\\partial g \\over \\partial x} \n",
    "$$"
   ]
  },
  {
   "attachments": {},
   "cell_type": "markdown",
   "metadata": {},
   "source": [
    "따라서 우리는 연쇄법칙을 활용해서 계산 그래프에서 효율적으로 미분값을 구할 수 있습니다. 왜냐하면 연쇄법칙으로 구한 값을 넘겨주고 넘겨준값에 국소적 미분값만 곱해주면 되기 때문입니다."
   ]
  },
  {
   "attachments": {},
   "cell_type": "markdown",
   "metadata": {},
   "source": [
    "### 5.3.3 사과 쇼핑의 예\n",
    "이제 연쇄법칙을 통해 아까 위에 예제의 역전파 과정을 구해보도록 하겠습니다."
   ]
  },
  {
   "attachments": {},
   "cell_type": "markdown",
   "metadata": {},
   "source": [
    "## 5.4 단순한 계층 구현하기"
   ]
  },
  {
   "attachments": {},
   "cell_type": "markdown",
   "metadata": {},
   "source": [
    "그래프의 곱셈노드와 덧셈노드를 구현하여 앞의 예제를 한번 코드로 구현해보도록 하겠습니다.  \n",
    "각 그래프의 노드들은 순전파(forward)와 역전파(backward)가 있어야 합니다."
   ]
  },
  {
   "cell_type": "code",
   "execution_count": 4,
   "metadata": {},
   "outputs": [],
   "source": [
    "class MulLayer:\n",
    "    def __init__(self):\n",
    "        self.x=None\n",
    "        self.y=None \n",
    "    \n",
    "    def forward(self,x,y):\n",
    "        self.x= x\n",
    "        self.y = y \n",
    "        return x * y\n",
    "    \n",
    "    def backward(self,dout):\n",
    "        dx = dout * self.y\n",
    "        dy = dout * self.x\n",
    "\n",
    "        return dx,dy\n"
   ]
  },
  {
   "cell_type": "code",
   "execution_count": 6,
   "metadata": {},
   "outputs": [],
   "source": [
    "class AddLayer:\n",
    "    def __init__(self):\n",
    "        pass\n",
    "\n",
    "    def forward(self,x,y):\n",
    "        return x + y\n",
    "    \n",
    "    def backward(self,dout):\n",
    "        dx = dout * 1\n",
    "        dy = dout * 1\n",
    "\n",
    "        return dx,dy"
   ]
  },
  {
   "cell_type": "code",
   "execution_count": 7,
   "metadata": {},
   "outputs": [
    {
     "name": "stdout",
     "output_type": "stream",
     "text": [
      "715.0000000000001\n",
      "110.00000000000001 2.2 165.0 3.3000000000000003 650\n"
     ]
    }
   ],
   "source": [
    "apple_per_price = 100\n",
    "apple_num = 2\n",
    "orange_per_price=150\n",
    "orange_num = 3 \n",
    "tax = 1.1\n",
    "\n",
    "mul_apple_layer = MulLayer()\n",
    "mul_orange_layer = MulLayer()\n",
    "add_apple_orange_layer = AddLayer()\n",
    "mul_tax_layer = MulLayer()\n",
    "\n",
    "# 순전파\n",
    "apple_price =mul_apple_layer.forward(apple_per_price,apple_num)\n",
    "orange_price = mul_orange_layer.forward(orange_per_price,orange_num)\n",
    "fruit_price = add_apple_orange_layer.forward(apple_price,orange_price)\n",
    "total_price = mul_tax_layer.forward(fruit_price,tax)\n",
    "\n",
    "# 역전파\n",
    "dprice = 1\n",
    "dfruit_price,dtax =mul_tax_layer.backward(dprice)\n",
    "dapple_price,dorange_price = add_apple_orange_layer.backward(dfruit_price)\n",
    "dapple_per_price,dapple_num = mul_apple_layer.backward(dapple_price)\n",
    "dorange_per_price,dorange_num = mul_orange_layer.backward(dorange_price)\n",
    "\n",
    "print(total_price)\n",
    "print(dapple_num,dapple_per_price,dorange_num,dorange_per_price,dtax)"
   ]
  },
  {
   "attachments": {},
   "cell_type": "markdown",
   "metadata": {},
   "source": [
    "## 5.5 활성화 함수 계층 구현하기\n",
    "이번에는 활성화함수인 ReLU와 Sigmoid계층을 구현하도록 하겠습니다."
   ]
  },
  {
   "attachments": {},
   "cell_type": "markdown",
   "metadata": {},
   "source": [
    "### 5.5.1 ReLU 계층\n",
    "ReLU의 수식은 다음과 같습니다.\n",
    "$$\n",
    "y = x \\space (x>0) $$\n",
    "$$y = 0 \\space (x<=0)\n",
    "$$"
   ]
  },
  {
   "attachments": {},
   "cell_type": "markdown",
   "metadata": {},
   "source": [
    "$${\\partial y \\over \\partial x} = \\space 1 \\space (x>0)$$\n",
    "$${\\partial y \\over \\partial x} = \\space 0 \\space (x<=0) $$"
   ]
  },
  {
   "attachments": {},
   "cell_type": "markdown",
   "metadata": {},
   "source": [
    "즉 ReLU는 순전파 때의 입력인 x 가 0 보다 크면 역전파는 상류의 값을 그대로 흘려보내고  \n",
    "순전파 때의 입력인 x가 0보다 같거나 작다면 역전파는 하류로 신호를 보내지 않습니다.(0을 보냄)"
   ]
  },
  {
   "cell_type": "code",
   "execution_count": 8,
   "metadata": {},
   "outputs": [],
   "source": [
    "class ReLu:\n",
    "    def __init__(self):\n",
    "        self.mask=None\n",
    "    def forward(self,x):\n",
    "        self.mask = (x<=0)\n",
    "        out = x.copy()\n",
    "        out[self.mask] = 0\n",
    "\n",
    "        return out\n",
    "    def backward(self,dout):\n",
    "        dout[self.mask]=0\n",
    "        dx = dout\n",
    "\n",
    "        return dx"
   ]
  },
  {
   "attachments": {},
   "cell_type": "markdown",
   "metadata": {},
   "source": [
    "### 5.5.2 Sigmoid 계층 \n",
    "Sigmoid의 수식은 다음과 같습니다.\n",
    "$$ y ={1 \\over 1+exp(-x)}$$"
   ]
  },
  {
   "attachments": {},
   "cell_type": "markdown",
   "metadata": {},
   "source": [
    "다음 수식을 계산그래프를 통해서 순전파와 역전파를 구해보면 다음과 같습니다."
   ]
  },
  {
   "cell_type": "code",
   "execution_count": 10,
   "metadata": {},
   "outputs": [],
   "source": [
    "import numpy as np\n",
    "class Sigmoid:\n",
    "    def __init__(self):\n",
    "        self.out = None\n",
    "\n",
    "    def forward(self,x):\n",
    "        out = 1 / (1+np.exp(-x))\n",
    "\n",
    "    def backward(self,dout):\n",
    "        dx = dout * (1.0 - self.out) * self.out"
   ]
  },
  {
   "cell_type": "code",
   "execution_count": null,
   "metadata": {},
   "outputs": [],
   "source": []
  }
 ],
 "metadata": {
  "kernelspec": {
   "display_name": "base",
   "language": "python",
   "name": "base"
  },
  "language_info": {
   "codemirror_mode": {
    "name": "ipython",
    "version": 3
   },
   "file_extension": ".py",
   "mimetype": "text/x-python",
   "name": "python",
   "nbconvert_exporter": "python",
   "pygments_lexer": "ipython3",
   "version": "3.9.13"
  },
  "orig_nbformat": 4
 },
 "nbformat": 4,
 "nbformat_minor": 2
}
