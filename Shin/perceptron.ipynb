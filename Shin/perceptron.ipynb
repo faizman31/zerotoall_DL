{
  "cells": [
    {
      "cell_type": "markdown",
      "metadata": {
        "id": "XM4V4wIXz9Ih"
      },
      "source": [
        "# Perceptron"
      ]
    },
    {
      "cell_type": "code",
      "execution_count": 22,
      "metadata": {
        "id": "TOhJ4EQfzQM6"
      },
      "outputs": [],
      "source": [
        "import numpy as np\n",
        "import matplotlib.pyplot as plt\n",
        "%matplotlib inline"
      ]
    },
    {
      "cell_type": "markdown",
      "metadata": {
        "id": "4uspneGZz7EI"
      },
      "source": [
        "## 퍼셉트론 구현하기"
      ]
    },
    {
      "cell_type": "markdown",
      "metadata": {
        "id": "evP8fKkz0WQ3"
      },
      "source": [
        "### AND 게이트"
      ]
    },
    {
      "cell_type": "code",
      "execution_count": 2,
      "metadata": {
        "id": "fHRWVQa0zc0s"
      },
      "outputs": [],
      "source": [
        "def AND(x1,x2):\n",
        "  w1,w2,theta = 0.5,0.5,0.7\n",
        "  tmp = x1*w1 + x2*w2\n",
        "  return 1 if tmp > theta else 0"
      ]
    },
    {
      "cell_type": "code",
      "execution_count": 3,
      "metadata": {
        "colab": {
          "base_uri": "https://localhost:8080/"
        },
        "id": "TGQ06rdozq_T",
        "outputId": "fe86cde3-a45a-48ca-aaf9-7d01308f8bf6"
      },
      "outputs": [
        {
          "name": "stdout",
          "output_type": "stream",
          "text": [
            "0\n",
            "0\n",
            "0\n",
            "1\n"
          ]
        }
      ],
      "source": [
        "print(AND(0,0))\n",
        "print(AND(0,1))\n",
        "print(AND(1,0))\n",
        "print(AND(1,1))"
      ]
    },
    {
      "cell_type": "markdown",
      "metadata": {
        "id": "xAIdEPG60RzD"
      },
      "source": [
        "### 가중치와 편향 도입"
      ]
    },
    {
      "cell_type": "code",
      "execution_count": 4,
      "metadata": {
        "colab": {
          "base_uri": "https://localhost:8080/"
        },
        "id": "65kyq-u-z4jN",
        "outputId": "4f3573ad-c996-4de0-cb4b-e00d9f4801d7"
      },
      "outputs": [
        {
          "data": {
            "text/plain": [
              "array([0. , 0.5])"
            ]
          },
          "execution_count": 4,
          "metadata": {},
          "output_type": "execute_result"
        }
      ],
      "source": [
        "x = np.array([0,1])\n",
        "w = np.array([0.5,0.5])\n",
        "b = -0.7\n",
        "w*x"
      ]
    },
    {
      "cell_type": "code",
      "execution_count": 5,
      "metadata": {
        "colab": {
          "base_uri": "https://localhost:8080/"
        },
        "id": "iA10n-mY0lWS",
        "outputId": "dc7979a5-59c3-4a60-8952-daf9f1315047"
      },
      "outputs": [
        {
          "data": {
            "text/plain": [
              "0.5"
            ]
          },
          "execution_count": 5,
          "metadata": {},
          "output_type": "execute_result"
        }
      ],
      "source": [
        "np.sum(w*x)"
      ]
    },
    {
      "cell_type": "code",
      "execution_count": 6,
      "metadata": {
        "colab": {
          "base_uri": "https://localhost:8080/"
        },
        "id": "aY2Dkg_A0nW9",
        "outputId": "ce8c9e35-a220-475d-9e96-4cf7133ec2f6"
      },
      "outputs": [
        {
          "data": {
            "text/plain": [
              "-0.19999999999999996"
            ]
          },
          "execution_count": 6,
          "metadata": {},
          "output_type": "execute_result"
        }
      ],
      "source": [
        "np.sum(w*x) + b"
      ]
    },
    {
      "cell_type": "code",
      "execution_count": 7,
      "metadata": {
        "id": "lb9Rxwtk0qhz"
      },
      "outputs": [],
      "source": [
        "def AND(x1,x2):\n",
        "  x=np.array([x1,x2])\n",
        "  w=np.array([0.5,0.5])\n",
        "  b=-0.7 # theta = -b \n",
        "  tmp = np.sum(w*x)+b\n",
        "  \n",
        "  return 1 if tmp > 0 else 0"
      ]
    },
    {
      "cell_type": "code",
      "execution_count": 8,
      "metadata": {
        "colab": {
          "base_uri": "https://localhost:8080/"
        },
        "id": "axG-YKuu1D10",
        "outputId": "4239089e-d204-4d61-e0c5-c3fdad9f1708"
      },
      "outputs": [
        {
          "name": "stdout",
          "output_type": "stream",
          "text": [
            "0\n",
            "0\n",
            "0\n",
            "1\n"
          ]
        }
      ],
      "source": [
        "print(AND(0,0))\n",
        "print(AND(0,1))\n",
        "print(AND(1,0))\n",
        "print(AND(1,1))"
      ]
    },
    {
      "cell_type": "markdown",
      "metadata": {
        "id": "MrACGc4O3hIc"
      },
      "source": [
        "### NAND/OR 게이트"
      ]
    },
    {
      "cell_type": "code",
      "execution_count": 9,
      "metadata": {
        "id": "X-xk6YNo1ICz"
      },
      "outputs": [],
      "source": [
        "def NAND(x1,x2):\n",
        "  x = np.array([x1,x2])\n",
        "  w = np.array([-0.5,-0.5])\n",
        "  b = 0.7\n",
        "  tmp = np.sum(x*w) + b\n",
        "\n",
        "  return 1 if tmp > 0 else 0"
      ]
    },
    {
      "cell_type": "code",
      "execution_count": 10,
      "metadata": {
        "id": "S9L6NkPX1oFJ"
      },
      "outputs": [],
      "source": [
        "def OR(x1,x2):\n",
        "  x = np.array([x1,x2])\n",
        "  w = np.array([.5,.5])\n",
        "  b = -0.3\n",
        "  tmp = np.sum(x*w) + b\n",
        "\n",
        "  return 1 if tmp > 0 else 0"
      ]
    },
    {
      "cell_type": "code",
      "execution_count": 11,
      "metadata": {
        "colab": {
          "base_uri": "https://localhost:8080/"
        },
        "id": "PBW0PhZd12rp",
        "outputId": "49c7e7fa-bf7d-4179-deaa-2af64f09b61c"
      },
      "outputs": [
        {
          "name": "stdout",
          "output_type": "stream",
          "text": [
            "NAND\n",
            "1\n",
            "1\n",
            "1\n",
            "0\n"
          ]
        }
      ],
      "source": [
        "print('NAND')\n",
        "print(NAND(0,0))\n",
        "print(NAND(0,1))\n",
        "print(NAND(1,0))\n",
        "print(NAND(1,1))"
      ]
    },
    {
      "cell_type": "code",
      "execution_count": 12,
      "metadata": {
        "colab": {
          "base_uri": "https://localhost:8080/"
        },
        "id": "1yVNWqm719sr",
        "outputId": "825090a6-591d-4b14-ceaf-753a5fce9451"
      },
      "outputs": [
        {
          "name": "stdout",
          "output_type": "stream",
          "text": [
            "OR\n",
            "0\n",
            "1\n",
            "1\n",
            "1\n"
          ]
        }
      ],
      "source": [
        "print('OR')\n",
        "print(OR(0,0))\n",
        "print(OR(0,1))\n",
        "print(OR(1,0))\n",
        "print(OR(1,1))"
      ]
    },
    {
      "cell_type": "markdown",
      "metadata": {
        "id": "8X3wl7YG3q-Q"
      },
      "source": [
        "### XOR 게이트"
      ]
    },
    {
      "cell_type": "code",
      "execution_count": 13,
      "metadata": {
        "id": "etGjB6fb2D_Q"
      },
      "outputs": [],
      "source": [
        "def XOR(x1,x2):\n",
        "  s1 = NAND(x1,x2)\n",
        "  s2 = OR(x1,x2)\n",
        "  y = AND(s1,s2)\n",
        "  return y"
      ]
    },
    {
      "cell_type": "code",
      "execution_count": 14,
      "metadata": {
        "colab": {
          "base_uri": "https://localhost:8080/"
        },
        "id": "diMiO0q634Fu",
        "outputId": "6f566f0d-6ff5-430e-875d-34f30d6a2073"
      },
      "outputs": [
        {
          "name": "stdout",
          "output_type": "stream",
          "text": [
            "XOR\n",
            "0\n",
            "1\n",
            "1\n",
            "0\n"
          ]
        }
      ],
      "source": [
        "print('XOR')\n",
        "print(XOR(0,0))\n",
        "print(XOR(0,1))\n",
        "print(XOR(1,0))\n",
        "print(XOR(1,1))"
      ]
    },
    {
      "cell_type": "markdown",
      "metadata": {
        "id": "FSIRdOBa4qk8"
      },
      "source": [
        "## 이번 장에서 배운 내용\n",
        "- 퍼셉트론은 입출력을 갖춘 알고리즘이다. 입력을 주면 정해진 규칙에 따른 값을 출력한다\n",
        "- 퍼셉트론에서는 '가중치'와 '편향'을 매개변수로 설정한다.\n",
        "- 퍼셉트론으로 AND,OR 게이트 등의 논리 회로를 표현할 수 있다.\n",
        "- 단일 퍼셉트론으로는 XOR 게이트를 표현할 수 없다\n",
        "- 2층 퍼셉트론(=다층 퍼셉트론)으로는 XOR 게이트를 표현할 수 있다.\n",
        "- 단층 퍼셉트론은 직선형 영역만 표현할 수 있고,다층 퍼셉트론은 비선형 영역도 표현할 수 있다."
      ]
    },
    {
      "attachments": {},
      "cell_type": "markdown",
      "metadata": {},
      "source": [
        "### 활성화 함수\n",
        "- 활성화 함수 : 입력 신호의 총합이 활성화를 일으키는지를 정하는 역할의 함수\n",
        "- 퍼셉트론과 신경망의 차이점 -> 활성화 함수의 유/무"
      ]
    },
    {
      "attachments": {},
      "cell_type": "markdown",
      "metadata": {},
      "source": [
        "### step_function"
      ]
    },
    {
      "cell_type": "code",
      "execution_count": 15,
      "metadata": {
        "id": "HKqnG8D539Ke"
      },
      "outputs": [],
      "source": [
        "def step_function(x): # x가 실수인 경우만 받을 수 있음 (np.array -> x)\n",
        "    if x > 0:\n",
        "        return 1\n",
        "    else:\n",
        "        return 0"
      ]
    },
    {
      "cell_type": "code",
      "execution_count": 20,
      "metadata": {},
      "outputs": [],
      "source": [
        "def step_function(x):\n",
        "    y = x > 0\n",
        "    return y.astype(np.int)"
      ]
    },
    {
      "cell_type": "code",
      "execution_count": 24,
      "metadata": {},
      "outputs": [
        {
          "name": "stderr",
          "output_type": "stream",
          "text": [
            "/var/folders/6b/vq51j9_153n_8c0d82cvxh7w0000gn/T/ipykernel_93376/821751868.py:3: DeprecationWarning: `np.int` is a deprecated alias for the builtin `int`. To silence this warning, use `int` by itself. Doing this will not modify any behavior and is safe. When replacing `np.int`, you may wish to use e.g. `np.int64` or `np.int32` to specify the precision. If you wish to review your current use, check the release note link for additional information.\n",
            "Deprecated in NumPy 1.20; for more details and guidance: https://numpy.org/devdocs/release/1.20.0-notes.html#deprecations\n",
            "  return y.astype(np.int)\n"
          ]
        },
        {
          "data": {
            "image/png": "[encoded data removed]",
            "text/plain": [
              "<Figure size 300x300 with 1 Axes>"
            ]
          },
          "metadata": {},
          "output_type": "display_data"
        }
      ],
      "source": [
        "# step_function 시각화 \n",
        "x = np.arange(-5.,5.,.1)\n",
        "y = step_function(x)\n",
        "\n",
        "plt.figure(figsize=(3,3))\n",
        "plt.plot(x,y)\n",
        "plt.ylim(-0.1,1.1)\n",
        "plt.show()"
      ]
    },
    {
      "attachments": {},
      "cell_type": "markdown",
      "metadata": {},
      "source": [
        "### Sigmoid"
      ]
    },
    {
      "cell_type": "code",
      "execution_count": 25,
      "metadata": {},
      "outputs": [],
      "source": [
        "def sigmoid(x):\n",
        "    return 1 / (1 + np.exp(-x))\n",
        "    "
      ]
    },
    {
      "cell_type": "code",
      "execution_count": 27,
      "metadata": {},
      "outputs": [
        {
          "data": {
            "text/plain": [
              "array([0.26894142, 0.73105858, 0.88079708])"
            ]
          },
          "execution_count": 27,
          "metadata": {},
          "output_type": "execute_result"
        }
      ],
      "source": [
        "x = np.array([-1.,1.,2.])\n",
        "sigmoid(x)"
      ]
    },
    {
      "cell_type": "code",
      "execution_count": 30,
      "metadata": {},
      "outputs": [
        {
          "data": {
            "image/png": "[encoded data removed]",
            "text/plain": [
              "<Figure size 500x300 with 1 Axes>"
            ]
          },
          "metadata": {},
          "output_type": "display_data"
        }
      ],
      "source": [
        "# sigmoid 시각화\n",
        "x = np.arange(-5.,5.,.1)\n",
        "y = sigmoid(x)\n",
        "\n",
        "plt.figure(figsize=(5,3))\n",
        "plt.plot(x,y)\n",
        "plt.ylim(-0.1,1.1)\n",
        "plt.grid()\n",
        "plt.show()"
      ]
    },
    {
      "attachments": {},
      "cell_type": "markdown",
      "metadata": {},
      "source": [
        "> ***비선형 함수***  \n",
        "> 시그모이드와 계단함수는 모두 비선형 함수 입니다. 비선형 함수란 문자 그대로 '선형이 아닌' 함수로 직선 1개로는 그릴 수 없는 함수를 뜻합니다."
      ]
    },
    {
      "attachments": {},
      "cell_type": "markdown",
      "metadata": {},
      "source": [
        "### ReLU(Recified Linear Unit)"
      ]
    },
    {
      "cell_type": "code",
      "execution_count": 33,
      "metadata": {},
      "outputs": [],
      "source": [
        "def ReLU(x):\n",
        "    return np.maximum(0,x) # np.maximum 은 두 값중 큰 값을 선택해 반환하는 함수"
      ]
    },
    {
      "cell_type": "code",
      "execution_count": 35,
      "metadata": {},
      "outputs": [
        {
          "data": {
            "image/png": "[encoded data removed]",
            "text/plain": [
              "<Figure size 500x500 with 1 Axes>"
            ]
          },
          "metadata": {},
          "output_type": "display_data"
        }
      ],
      "source": [
        "# ReLU 시각화\n",
        "x = np.arange(-5.,5.,.1)\n",
        "y = ReLU(x)\n",
        "\n",
        "plt.figure(figsize=(5,5))\n",
        "plt.plot(x,y)\n",
        "plt.grid()\n",
        "plt.xlim(-6,6)\n",
        "plt.show()"
      ]
    },
    {
      "attachments": {},
      "cell_type": "markdown",
      "metadata": {},
      "source": [
        "### 다차원 배열의 계산"
      ]
    },
    {
      "cell_type": "code",
      "execution_count": 36,
      "metadata": {},
      "outputs": [
        {
          "name": "stdout",
          "output_type": "stream",
          "text": [
            "1 (6,)\n"
          ]
        }
      ],
      "source": [
        "# 1차원 배열\n",
        "A = np.array([1,2,3,4,5,6])\n",
        "print(np.ndim(A),A.shape)"
      ]
    },
    {
      "cell_type": "code",
      "execution_count": 37,
      "metadata": {},
      "outputs": [
        {
          "name": "stdout",
          "output_type": "stream",
          "text": [
            "2 (3, 2)\n"
          ]
        }
      ],
      "source": [
        "# 2차원 배열\n",
        "B = np.array([[1,2],[3,4],[5,6]])\n",
        "print(np.ndim(B),B.shape)"
      ]
    },
    {
      "attachments": {},
      "cell_type": "markdown",
      "metadata": {},
      "source": [
        "### 행렬의 곱\n",
        "- 행렬끼리의 곱은 앞 행렬의 열과 뒷 행렬의 행이 동일한 크기여야 합니다."
      ]
    },
    {
      "cell_type": "code",
      "execution_count": 39,
      "metadata": {},
      "outputs": [
        {
          "name": "stdout",
          "output_type": "stream",
          "text": [
            "A: (2, 2)  B: (2, 2)\n"
          ]
        },
        {
          "data": {
            "text/plain": [
              "array([[19, 22],\n",
              "       [43, 50]])"
            ]
          },
          "execution_count": 39,
          "metadata": {},
          "output_type": "execute_result"
        }
      ],
      "source": [
        "A = np.array([[1,2],[3,4]])\n",
        "B = np.array([[5,6],[7,8]])\n",
        "print('A:',A.shape,' B:',B.shape)\n",
        "np.dot(A,B)"
      ]
    },
    {
      "attachments": {},
      "cell_type": "markdown",
      "metadata": {},
      "source": [
        "### 3층 신경망 구현하기"
      ]
    },
    {
      "cell_type": "code",
      "execution_count": 41,
      "metadata": {},
      "outputs": [
        {
          "name": "stdout",
          "output_type": "stream",
          "text": [
            "(2, 3)\n",
            "(2,)\n",
            "(3,)\n"
          ]
        }
      ],
      "source": [
        "X = np.array([1.,.5])\n",
        "W1 = np.array([[.1,.3,.5],[.2,.4,.6]])\n",
        "B1 = np.array([.1,.2,.3])\n",
        "\n",
        "print(W1.shape)\n",
        "print(X.shape)\n",
        "print(B1.shape)\n",
        "\n",
        "A1 = np.dot(X,W1) + B1"
      ]
    },
    {
      "cell_type": "code",
      "execution_count": 42,
      "metadata": {},
      "outputs": [
        {
          "name": "stdout",
          "output_type": "stream",
          "text": [
            "[0.3 0.7 1.1]\n",
            "[0.57444252 0.66818777 0.75026011]\n"
          ]
        }
      ],
      "source": [
        "Z1 = sigmoid(A1)\n",
        "print(A1)\n",
        "print(Z1)"
      ]
    },
    {
      "cell_type": "code",
      "execution_count": 45,
      "metadata": {},
      "outputs": [
        {
          "name": "stdout",
          "output_type": "stream",
          "text": [
            "(3,)\n",
            "(3, 2)\n",
            "(2,)\n"
          ]
        }
      ],
      "source": [
        "W2 = np.array([[.1,.4],[.2,.5],[.3,.6]])\n",
        "B2 = np.array([.1,.2])\n",
        "\n",
        "print(Z1.shape)\n",
        "print(W2.shape)\n",
        "print(B2.shape)\n",
        "\n",
        "A2 = np.dot(Z1,W2) + B2\n",
        "Z2 = sigmoid(A2)\n"
      ]
    },
    {
      "cell_type": "code",
      "execution_count": 46,
      "metadata": {},
      "outputs": [],
      "source": [
        "def identity_funtion(x):\n",
        "    return x\n",
        "\n",
        "W3 = np.array([[.1,.3],[.2,.4]])\n",
        "B3 = np.array([.1,.2])\n",
        "\n",
        "A3 = np.dot(Z2,W3) + B3\n",
        "Y = identity_funtion(A3)"
      ]
    },
    {
      "cell_type": "code",
      "execution_count": null,
      "metadata": {},
      "outputs": [],
      "source": []
    }
  ],
  "metadata": {
    "colab": {
      "provenance": []
    },
    "kernelspec": {
      "display_name": "base",
      "language": "python",
      "name": "python3"
    },
    "language_info": {
      "codemirror_mode": {
        "name": "ipython",
        "version": 3
      },
      "file_extension": ".py",
      "mimetype": "text/x-python",
      "name": "python",
      "nbconvert_exporter": "python",
      "pygments_lexer": "ipython3",
      "version": "3.9.13"
    },
    "vscode": {
      "interpreter": {
        "hash": "40d3a090f54c6569ab1632332b64b2c03c39dcf918b08424e98f38b5ae0af88f"
      }
    }
  },
  "nbformat": 4,
  "nbformat_minor": 0
}
