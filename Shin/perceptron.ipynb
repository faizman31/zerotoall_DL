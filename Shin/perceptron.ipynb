{
  "nbformat": 4,
  "nbformat_minor": 0,
  "metadata": {
    "colab": {
      "provenance": []
    },
    "kernelspec": {
      "name": "python3",
      "display_name": "Python 3"
    },
    "language_info": {
      "name": "python"
    }
  },
  "cells": [
    {
      "cell_type": "markdown",
      "source": [
        "# Perceptron"
      ],
      "metadata": {
        "id": "XM4V4wIXz9Ih"
      }
    },
    {
      "cell_type": "code",
      "execution_count": 1,
      "metadata": {
        "id": "TOhJ4EQfzQM6"
      },
      "outputs": [],
      "source": [
        "import numpy as np"
      ]
    },
    {
      "cell_type": "markdown",
      "source": [
        "## 퍼셉트론 구현하기"
      ],
      "metadata": {
        "id": "4uspneGZz7EI"
      }
    },
    {
      "cell_type": "markdown",
      "source": [
        "### AND 게이트"
      ],
      "metadata": {
        "id": "evP8fKkz0WQ3"
      }
    },
    {
      "cell_type": "code",
      "source": [
        "def AND(x1,x2):\n",
        "  w1,w2,theta = 0.5,0.5,0.7\n",
        "  tmp = x1*w1 + x2*w2\n",
        "  return 1 if tmp > theta else 0"
      ],
      "metadata": {
        "id": "fHRWVQa0zc0s"
      },
      "execution_count": 2,
      "outputs": []
    },
    {
      "cell_type": "code",
      "source": [
        "print(AND(0,0))\n",
        "print(AND(0,1))\n",
        "print(AND(1,0))\n",
        "print(AND(1,1))"
      ],
      "metadata": {
        "colab": {
          "base_uri": "https://localhost:8080/"
        },
        "id": "TGQ06rdozq_T",
        "outputId": "fe86cde3-a45a-48ca-aaf9-7d01308f8bf6"
      },
      "execution_count": 3,
      "outputs": [
        {
          "output_type": "stream",
          "name": "stdout",
          "text": [
            "0\n",
            "0\n",
            "0\n",
            "1\n"
          ]
        }
      ]
    },
    {
      "cell_type": "markdown",
      "source": [
        "### 가중치와 편향 도입"
      ],
      "metadata": {
        "id": "xAIdEPG60RzD"
      }
    },
    {
      "cell_type": "code",
      "source": [
        "x = np.array([0,1])\n",
        "w = np.array([0.5,0.5])\n",
        "b = -0.7\n",
        "w*x"
      ],
      "metadata": {
        "colab": {
          "base_uri": "https://localhost:8080/"
        },
        "id": "65kyq-u-z4jN",
        "outputId": "4f3573ad-c996-4de0-cb4b-e00d9f4801d7"
      },
      "execution_count": 4,
      "outputs": [
        {
          "output_type": "execute_result",
          "data": {
            "text/plain": [
              "array([0. , 0.5])"
            ]
          },
          "metadata": {},
          "execution_count": 4
        }
      ]
    },
    {
      "cell_type": "code",
      "source": [
        "np.sum(w*x)"
      ],
      "metadata": {
        "colab": {
          "base_uri": "https://localhost:8080/"
        },
        "id": "iA10n-mY0lWS",
        "outputId": "dc7979a5-59c3-4a60-8952-daf9f1315047"
      },
      "execution_count": 5,
      "outputs": [
        {
          "output_type": "execute_result",
          "data": {
            "text/plain": [
              "0.5"
            ]
          },
          "metadata": {},
          "execution_count": 5
        }
      ]
    },
    {
      "cell_type": "code",
      "source": [
        "np.sum(w*x) + b"
      ],
      "metadata": {
        "colab": {
          "base_uri": "https://localhost:8080/"
        },
        "id": "aY2Dkg_A0nW9",
        "outputId": "ce8c9e35-a220-475d-9e96-4cf7133ec2f6"
      },
      "execution_count": 6,
      "outputs": [
        {
          "output_type": "execute_result",
          "data": {
            "text/plain": [
              "-0.19999999999999996"
            ]
          },
          "metadata": {},
          "execution_count": 6
        }
      ]
    },
    {
      "cell_type": "code",
      "source": [
        "def AND(x1,x2):\n",
        "  x=np.array([x1,x2])\n",
        "  w=np.array([0.5,0.5])\n",
        "  b=-0.7 # theta = -b \n",
        "  tmp = np.sum(w*x)+b\n",
        "  \n",
        "  return 1 if tmp > 0 else 0"
      ],
      "metadata": {
        "id": "lb9Rxwtk0qhz"
      },
      "execution_count": 8,
      "outputs": []
    },
    {
      "cell_type": "code",
      "source": [
        "print(AND(0,0))\n",
        "print(AND(0,1))\n",
        "print(AND(1,0))\n",
        "print(AND(1,1))"
      ],
      "metadata": {
        "colab": {
          "base_uri": "https://localhost:8080/"
        },
        "id": "axG-YKuu1D10",
        "outputId": "4239089e-d204-4d61-e0c5-c3fdad9f1708"
      },
      "execution_count": 10,
      "outputs": [
        {
          "output_type": "stream",
          "name": "stdout",
          "text": [
            "0\n",
            "0\n",
            "0\n",
            "1\n"
          ]
        }
      ]
    },
    {
      "cell_type": "markdown",
      "source": [
        "### NAND/OR 게이트"
      ],
      "metadata": {
        "id": "MrACGc4O3hIc"
      }
    },
    {
      "cell_type": "code",
      "source": [
        "def NAND(x1,x2):\n",
        "  x = np.array([x1,x2])\n",
        "  w = np.array([-0.5,-0.5])\n",
        "  b = 0.7\n",
        "  tmp = np.sum(x*w) + b\n",
        "\n",
        "  return 1 if tmp > 0 else 0"
      ],
      "metadata": {
        "id": "X-xk6YNo1ICz"
      },
      "execution_count": 11,
      "outputs": []
    },
    {
      "cell_type": "code",
      "source": [
        "def OR(x1,x2):\n",
        "  x = np.array([x1,x2])\n",
        "  w = np.array([.5,.5])\n",
        "  b = -0.3\n",
        "  tmp = np.sum(x*w) + b\n",
        "\n",
        "  return 1 if tmp > 0 else 0"
      ],
      "metadata": {
        "id": "S9L6NkPX1oFJ"
      },
      "execution_count": 15,
      "outputs": []
    },
    {
      "cell_type": "code",
      "source": [
        "print('NAND')\n",
        "print(NAND(0,0))\n",
        "print(NAND(0,1))\n",
        "print(NAND(1,0))\n",
        "print(NAND(1,1))"
      ],
      "metadata": {
        "colab": {
          "base_uri": "https://localhost:8080/"
        },
        "id": "PBW0PhZd12rp",
        "outputId": "49c7e7fa-bf7d-4179-deaa-2af64f09b61c"
      },
      "execution_count": 13,
      "outputs": [
        {
          "output_type": "stream",
          "name": "stdout",
          "text": [
            "NAND\n",
            "1\n",
            "1\n",
            "1\n",
            "0\n"
          ]
        }
      ]
    },
    {
      "cell_type": "code",
      "source": [
        "print('OR')\n",
        "print(OR(0,0))\n",
        "print(OR(0,1))\n",
        "print(OR(1,0))\n",
        "print(OR(1,1))"
      ],
      "metadata": {
        "colab": {
          "base_uri": "https://localhost:8080/"
        },
        "id": "1yVNWqm719sr",
        "outputId": "825090a6-591d-4b14-ceaf-753a5fce9451"
      },
      "execution_count": 16,
      "outputs": [
        {
          "output_type": "stream",
          "name": "stdout",
          "text": [
            "OR\n",
            "0\n",
            "1\n",
            "1\n",
            "1\n"
          ]
        }
      ]
    },
    {
      "cell_type": "markdown",
      "source": [
        "### XOR 게이트"
      ],
      "metadata": {
        "id": "8X3wl7YG3q-Q"
      }
    },
    {
      "cell_type": "code",
      "source": [
        "def XOR(x1,x2):\n",
        "  s1 = NAND(x1,x2)\n",
        "  s2 = OR(x1,x2)\n",
        "  y = AND(s1,s2)\n",
        "  return y"
      ],
      "metadata": {
        "id": "etGjB6fb2D_Q"
      },
      "execution_count": 17,
      "outputs": []
    },
    {
      "cell_type": "code",
      "source": [
        "print('XOR')\n",
        "print(XOR(0,0))\n",
        "print(XOR(0,1))\n",
        "print(XOR(1,0))\n",
        "print(XOR(1,1))"
      ],
      "metadata": {
        "colab": {
          "base_uri": "https://localhost:8080/"
        },
        "id": "diMiO0q634Fu",
        "outputId": "6f566f0d-6ff5-430e-875d-34f30d6a2073"
      },
      "execution_count": 18,
      "outputs": [
        {
          "output_type": "stream",
          "name": "stdout",
          "text": [
            "XOR\n",
            "0\n",
            "1\n",
            "1\n",
            "0\n"
          ]
        }
      ]
    },
    {
      "cell_type": "markdown",
      "source": [
        "## 이번 장에서 배운 내용\n",
        "- 퍼셉트론은 입출력을 갖춘 알고리즘이다. 입력을 주면 정해진 규칙에 따른 값을 출력한다\n",
        "- 퍼셉트론에서는 '가중치'와 '편향'을 매개변수로 설정한다.\n",
        "- 퍼셉트론으로 AND,OR 게이트 등의 논리 회로를 표현할 수 있다.\n",
        "- 단일 퍼셉트론으로는 XOR 게이트를 표현할 수 없다\n",
        "- 2층 퍼셉트론(=다층 퍼셉트론)으로는 XOR 게이트를 표현할 수 있다.\n",
        "- 단층 퍼셉트론은 직선형 영역만 표현할 수 있고,다층 퍼셉트론은 비선형 영역도 표현할 수 있다."
      ],
      "metadata": {
        "id": "FSIRdOBa4qk8"
      }
    },
    {
      "cell_type": "code",
      "source": [],
      "metadata": {
        "id": "HKqnG8D539Ke"
      },
      "execution_count": null,
      "outputs": []
    }
  ]
}